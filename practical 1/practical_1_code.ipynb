{
 "cells": [
  {
   "cell_type": "markdown",
   "metadata": {
    "collapsed": true,
    "pycharm": {
     "name": "#%% md\n"
    }
   },
   "source": [
    "Natalia Rutecka\n",
    "NLP - code from practical 1"
   ]
  },
  {
   "cell_type": "code",
   "execution_count": 1,
   "outputs": [
    {
     "name": "stderr",
     "output_type": "stream",
     "text": [
      "C:\\Users\\48604\\AppData\\Local\\Programs\\Python\\Python310\\lib\\site-packages\\requests\\__init__.py:102: RequestsDependencyWarning: urllib3 (1.26.8) or chardet (5.1.0)/charset_normalizer (2.0.12) doesn't match a supported version!\n",
      "  warnings.warn(\"urllib3 ({}) or chardet ({})/charset_normalizer ({}) doesn't match a supported \"\n",
      "[nltk_data] Downloading package reuters to\n",
      "[nltk_data]     C:\\Users\\48604\\AppData\\Roaming\\nltk_data...\n",
      "[nltk_data]   Package reuters is already up-to-date!\n",
      "[nltk_data] Downloading package pl196x to\n",
      "[nltk_data]     C:\\Users\\48604\\AppData\\Roaming\\nltk_data...\n",
      "[nltk_data]   Package pl196x is already up-to-date!\n"
     ]
    }
   ],
   "source": [
    "import sys\n",
    "\n",
    "import pprint\n",
    "\n",
    "import matplotlib.pyplot as plt\n",
    "import sklearn\n",
    "from gensim.models import KeyedVectors\n",
    "from gensim.test.utils import datapath\n",
    "import random\n",
    "import nltk\n",
    "\n",
    "nltk.download('reuters')\n",
    "nltk.download('pl196x')\n",
    "import random\n",
    "\n",
    "import numpy as np\n",
    "import scipy as sp\n",
    "from nltk.corpus import reuters\n",
    "from nltk.corpus.reader import pl196x\n",
    "from sklearn.decomposition import PCA, TruncatedSVD\n",
    "\n",
    "START_TOKEN = '<START>'\n",
    "END_TOKEN = '<END>'\n",
    "\n",
    "np.random.seed(0)\n",
    "random.seed(0)\n"
   ],
   "metadata": {
    "collapsed": false,
    "pycharm": {
     "name": "#%%\n"
    }
   }
  },
  {
   "cell_type": "markdown",
   "source": [
    "Exercise 1.3\n",
    "a)"
   ],
   "metadata": {
    "collapsed": false,
    "pycharm": {
     "name": "#%% md\n"
    }
   }
  },
  {
   "cell_type": "code",
   "execution_count": 2,
   "outputs": [],
   "source": [
    "def distinct_words(corpus):\n",
    "    \"\"\" Determine a list of distinct words for the corpus.\n",
    "        Params:\n",
    "            corpus (list of list of strings): corpus of documents\n",
    "        Return:\n",
    "            corpus_words (list of strings): list of distinct words across the\n",
    "            corpus, sorted (using python 'sorted' function)\n",
    "            num_corpus_words (integer): number of distinct words across the\n",
    "            corpus\n",
    "    \"\"\"\n",
    "    corpus_words = sorted(list({word for doc in corpus for word in doc}))\n",
    "    return corpus_words, len(corpus_words)"
   ],
   "metadata": {
    "collapsed": false,
    "pycharm": {
     "name": "#%%\n"
    }
   }
  },
  {
   "cell_type": "code",
   "execution_count": 3,
   "outputs": [
    {
     "name": "stdout",
     "output_type": "stream",
     "text": [
      "--------------------------------------------------------------------------------\n",
      "Passed All Tests!\n",
      "--------------------------------------------------------------------------------\n"
     ]
    }
   ],
   "source": [
    "# Define toy corpus\n",
    "test_corpus = [\"START Ala miec kot i pies END\".split(\" \"),\n",
    "               \"START Ala lubic kot END\".split(\" \")]\n",
    "test_corpus_words, num_corpus_words = distinct_words(test_corpus)\n",
    "\n",
    "# Correct answers\n",
    "ans_test_corpus_words = sorted(list(set([\n",
    "    'Ala', 'END', 'START', 'i', 'kot', 'lubic', 'miec', 'pies'])))\n",
    "ans_num_corpus_words = len(ans_test_corpus_words)\n",
    "\n",
    "# Test correct number of words\n",
    "assert(num_corpus_words == ans_num_corpus_words), \"Incorrect number of distinct words. Correct: {}. Yours: {}\".format(ans_num_corpus_words, num_corpus_words)\n",
    "\n",
    "# Test correct words\n",
    "assert (test_corpus_words == ans_test_corpus_words), \"Incorrect corpus_words.\\nCorrect: {}\\nYours:   {}\".format(str(ans_test_corpus_words), str(test_corpus_words))\n",
    "\n",
    "# Print Success\n",
    "print (\"-\" * 80)\n",
    "print(\"Passed All Tests!\")\n",
    "print (\"-\" * 80)"
   ],
   "metadata": {
    "collapsed": false,
    "pycharm": {
     "name": "#%%\n"
    }
   }
  },
  {
   "cell_type": "markdown",
   "source": [
    "b)"
   ],
   "metadata": {
    "collapsed": false,
    "pycharm": {
     "name": "#%% md\n"
    }
   }
  },
  {
   "cell_type": "code",
   "execution_count": 4,
   "outputs": [],
   "source": [
    "def compute_co_occurrence_matrix(corpus, window_size=4):\n",
    "    \"\"\" Compute co-occurrence matrix for the given corpus and window_size (default of 4).\n",
    "\n",
    "        Note: Each word in a document should be at the center of a window.\n",
    "            Words near edges will have a smaller number of co-occurring words.\n",
    "\n",
    "              For example, if we take the document \"START All that glitters is not gold END\" with window size of 4,\n",
    "              \"All\" will co-occur with \"START\", \"that\", \"glitters\", \"is\", and \"not\".\n",
    "\n",
    "        Params:\n",
    "            corpus (list of list of strings): corpus of documents\n",
    "            window_size (int): size of context window\n",
    "        Return:\n",
    "            M (numpy matrix of shape (number of corpus words, number of corpus words)):\n",
    "                Co-occurence matrix of word counts.\n",
    "                The ordering of the words in the rows/columns should be the\n",
    "                same as the ordering of the words given by the distinct_words\n",
    "                function.\n",
    "            word2Ind (dict): dictionary that maps word to index\n",
    "                (i.e. row/column number) for matrix M.\n",
    "    \"\"\"\n",
    "    words, num_words = distinct_words(corpus)\n",
    "    # ------------------\n",
    "    # Write your implementation here.\n",
    "    word2Ind = {words[i]: i for i in range(num_words)}\n",
    "    M = np.zeros((num_words, num_words))\n",
    "    for sentence in corpus:\n",
    "        for i in range(len(sentence)):\n",
    "            for j in range(max(0, i - window_size), min(len(sentence), i + window_size + 1)):\n",
    "                if i != j:\n",
    "                    w_i, w_j = word2Ind[sentence[i]], word2Ind[sentence[j]]\n",
    "                    M[w_i, w_j] += 1\n",
    "\n",
    "    # ------------------\n",
    "    return M, word2Ind"
   ],
   "metadata": {
    "collapsed": false,
    "pycharm": {
     "name": "#%%\n"
    }
   }
  },
  {
   "cell_type": "code",
   "execution_count": 5,
   "outputs": [
    {
     "name": "stdout",
     "output_type": "stream",
     "text": [
      "--------------------------------------------------------------------------------\n",
      "Passed All Tests!\n",
      "--------------------------------------------------------------------------------\n"
     ]
    }
   ],
   "source": [
    "# Define toy corpus and get student's co-occurrence matrix\n",
    "test_corpus = [\"START Ala miec kot i pies END\".split(\" \"),\n",
    "               \"START Ala lubic kot END\".split(\" \")]\n",
    "M_test, word2Ind_test = compute_co_occurrence_matrix(\n",
    "    test_corpus, window_size=1)\n",
    "\n",
    "# Correct M and word2Ind\n",
    "M_test_ans = np.array([\n",
    "    [0., 0., 2., 0., 0., 1., 1., 0.],\n",
    "    [0., 0., 0., 0., 1., 0., 0., 1.],\n",
    "    [2., 0., 0., 0., 0., 0., 0., 0.],\n",
    "    [0., 0., 0., 0., 1., 0., 0., 1.],\n",
    "    [0., 1., 0., 1., 0., 1., 1., 0.],\n",
    "    [1., 0., 0., 0., 1., 0., 0., 0.],\n",
    "    [1., 0., 0., 0., 1., 0., 0., 0.],\n",
    "    [0., 1., 0., 1., 0., 0., 0., 0.]\n",
    "])\n",
    "\n",
    "word2Ind_ans = {\n",
    "    'Ala': 0, 'END': 1, 'START': 2, 'i': 3, 'kot': 4, 'lubic': 5, 'miec': 6,\n",
    "    'pies': 7}\n",
    "\n",
    "# Test correct word2Ind\n",
    "assert (word2Ind_ans == word2Ind_test), \"Your word2Ind is incorrect:\\nCorrect: {}\\nYours: {}\".format(word2Ind_ans, word2Ind_test)\n",
    "\n",
    "# Test correct M shape\n",
    "assert (M_test.shape == M_test_ans.shape), \"M matrix has incorrect shape.\\nCorrect: {}\\nYours: {}\".format(M_test.shape, M_test_ans.shape)\n",
    "\n",
    "# Test correct M values\n",
    "for w1 in word2Ind_ans.keys():\n",
    "    idx1 = word2Ind_ans[w1]\n",
    "    for w2 in word2Ind_ans.keys():\n",
    "        idx2 = word2Ind_ans[w2]\n",
    "        student = M_test[idx1, idx2]\n",
    "        correct = M_test_ans[idx1, idx2]\n",
    "        if student != correct:\n",
    "            print(\"Correct M:\")\n",
    "            print(M_test_ans)\n",
    "            print(\"Your M: \")\n",
    "            print(M_test)\n",
    "            raise AssertionError(\"Incorrect count at index ({}, {})=({}, {}) in matrix M. Yours has {} but should have {}.\".format(idx1, idx2, w1, w2, student, correct))\n",
    "\n",
    "# Print Success\n",
    "print (\"-\" * 80)\n",
    "print(\"Passed All Tests!\")\n",
    "print (\"-\" * 80)"
   ],
   "metadata": {
    "collapsed": false,
    "pycharm": {
     "name": "#%%\n"
    }
   }
  },
  {
   "cell_type": "markdown",
   "source": [
    "c)\n"
   ],
   "metadata": {
    "collapsed": false,
    "pycharm": {
     "name": "#%% md\n"
    }
   }
  },
  {
   "cell_type": "code",
   "execution_count": 6,
   "outputs": [],
   "source": [
    "def reduce_to_k_dim(M, k=2):\n",
    "    \"\"\" Reduce a co-occurence count matrix of dimensionality\n",
    "        (num_corpus_words, num_corpus_words)\n",
    "        to a matrix of dimensionality (num_corpus_words, k) using the following\n",
    "         SVD function from Scikit-Learn:\n",
    "            - http://scikit-learn.org/stable/modules/generated/sklearn.decomposition.TruncatedSVD.html\n",
    "\n",
    "        Params:\n",
    "            M (numpy matrix of shape (number of corpus words, number\n",
    "                of corpus words)): co-occurence matrix of word counts\n",
    "            k (int): embedding size of each word after dimension reduction\n",
    "        Return:\n",
    "            M_reduced (numpy matrix of shape (number of corpus words, k)):\n",
    "            matrix of k-dimensioal word embeddings.\n",
    "            In terms of the SVD from math class, this actually returns U * S\n",
    "    \"\"\"\n",
    "    n_iters = 10     # Use this parameter in your call to `TruncatedSVD`\n",
    "    print(\"Running Truncated SVD over %i words...\" % (M.shape[0]))\n",
    "\n",
    "    # ------------------\n",
    "    # Write your implementation here.\n",
    "    M_reduced = sklearn.decomposition.TruncatedSVD(n_components=k, n_iter=n_iters).fit_transform(M)\n",
    "    # ------------------\n",
    "    print(\"Done.\")\n",
    "    return M_reduced"
   ],
   "metadata": {
    "collapsed": false,
    "pycharm": {
     "name": "#%%\n"
    }
   }
  },
  {
   "cell_type": "code",
   "execution_count": 7,
   "outputs": [
    {
     "name": "stdout",
     "output_type": "stream",
     "text": [
      "Running Truncated SVD over 8 words...\n",
      "Done.\n",
      "--------------------------------------------------------------------------------\n",
      "Passed All Tests!\n",
      "--------------------------------------------------------------------------------\n"
     ]
    }
   ],
   "source": [
    "# ---------------------\n",
    "# Run this sanity check\n",
    "# Note that this not an exhaustive check for correctness\n",
    "# In fact we only check that your M_reduced has the right dimensions.\n",
    "# ---------------------\n",
    "\n",
    "# Define toy corpus and run student code\n",
    "test_corpus = [\"START Ala miec kot i pies END\".split(\" \"),\n",
    "               \"START Ala lubic kot END\".split(\" \")]\n",
    "M_test, word2Ind_test = compute_co_occurrence_matrix(test_corpus, window_size=1)\n",
    "M_test_reduced = reduce_to_k_dim(M_test, k=2)\n",
    "\n",
    "# Test proper dimensions\n",
    "assert (M_test_reduced.shape[0] == 8), \"M_reduced has {} rows; should have {}\".format(M_test_reduced.shape[0], 8)\n",
    "assert (M_test_reduced.shape[1] == 2), \"M_reduced has {} columns; should have {}\".format(M_test_reduced.shape[1], 2)\n",
    "\n",
    "# Print Success\n",
    "print(\"-\" * 80)\n",
    "print(\"Passed All Tests!\")\n",
    "print(\"-\" * 80)"
   ],
   "metadata": {
    "collapsed": false,
    "pycharm": {
     "name": "#%%\n"
    }
   }
  },
  {
   "cell_type": "markdown",
   "source": [
    "d)\n"
   ],
   "metadata": {
    "collapsed": false,
    "pycharm": {
     "name": "#%% md\n"
    }
   }
  },
  {
   "cell_type": "code",
   "execution_count": 8,
   "outputs": [],
   "source": [
    "def plot_embeddings(M_reduced, word2Ind, words):\n",
    "    \"\"\" Plot in a scatterplot the embeddings of the words specified\n",
    "        in the list \"words\".\n",
    "        NOTE: do not plot all the words listed in M_reduced / word2Ind.\n",
    "        Include a label next to each point.\n",
    "\n",
    "        Params:\n",
    "            M_reduced (numpy matrix of shape (number of unique words in the\n",
    "            corpus , k)): matrix of k-dimensioal word embeddings\n",
    "            word2Ind (dict): dictionary that maps word to indices for matrix M\n",
    "            words (list of strings): words whose embeddings we want to\n",
    "            visualize\n",
    "    \"\"\"\n",
    "\n",
    "    # ------------------\n",
    "    # Write your implementation here.\n",
    "    xs, ys, labels = [], [], []\n",
    "    for word in words:\n",
    "        word_index = word2Ind[word]\n",
    "        x, y = M_reduced[word_index]\n",
    "        xs.append(x)\n",
    "        ys.append(y)\n",
    "        labels.append(word)\n",
    "    fig, ax = plt.subplots()\n",
    "    ax.scatter(xs, ys)\n",
    "    for i, txt in enumerate(labels):\n",
    "        ax.annotate(txt, (xs[i], ys[i]), size=10)\n",
    "    plt.show()\n",
    "    # ------------------#"
   ],
   "metadata": {
    "collapsed": false,
    "pycharm": {
     "name": "#%%\n"
    }
   }
  },
  {
   "cell_type": "code",
   "execution_count": 9,
   "outputs": [
    {
     "name": "stdout",
     "output_type": "stream",
     "text": [
      "--------------------------------------------------------------------------------\n",
      "Outputted Plot:\n"
     ]
    },
    {
     "data": {
      "text/plain": "<Figure size 432x288 with 1 Axes>",
      "image/png": "[encoded data removed]"
     },
     "metadata": {
      "needs_background": "light"
     },
     "output_type": "display_data"
    },
    {
     "name": "stdout",
     "output_type": "stream",
     "text": [
      "--------------------------------------------------------------------------------\n"
     ]
    }
   ],
   "source": [
    "# ---------------------\n",
    "# Run this sanity check\n",
    "# Note that this not an exhaustive check for correctness.\n",
    "# The plot produced should look like the \"test solution plot\" depicted below.\n",
    "# ---------------------\n",
    "\n",
    "print (\"-\" * 80)\n",
    "print (\"Outputted Plot:\")\n",
    "\n",
    "M_reduced_plot_test = np.array([[1, 1], [-1, -1], [1, -1], [-1, 1], [0, 0]])\n",
    "word2Ind_plot_test = {\n",
    "    'test1': 0, 'test2': 1, 'test3': 2, 'test4': 3, 'test5': 4}\n",
    "words = ['test1', 'test2', 'test3', 'test4', 'test5']\n",
    "plot_embeddings(M_reduced_plot_test, word2Ind_plot_test, words)\n",
    "\n",
    "print (\"-\" * 80)"
   ],
   "metadata": {
    "collapsed": false,
    "pycharm": {
     "name": "#%%\n"
    }
   }
  },
  {
   "cell_type": "markdown",
   "source": [
    "e)"
   ],
   "metadata": {
    "collapsed": false,
    "pycharm": {
     "name": "#%% md\n"
    }
   }
  },
  {
   "cell_type": "code",
   "execution_count": 10,
   "outputs": [
    {
     "name": "stdout",
     "output_type": "stream",
     "text": [
      "Running Truncated SVD over 22957 words...\n",
      "Done.\n"
     ]
    },
    {
     "data": {
      "text/plain": "<Figure size 432x288 with 1 Axes>",
      "image/png": "[encoded data removed]"
     },
     "metadata": {
      "needs_background": "light"
     },
     "output_type": "display_data"
    },
    {
     "name": "stdout",
     "output_type": "stream",
     "text": [
      "Running Truncated SVD over 22957 words...\n",
      "Done.\n"
     ]
    },
    {
     "data": {
      "text/plain": "<Figure size 432x288 with 1 Axes>",
      "image/png": "[encoded data removed]"
     },
     "metadata": {
      "needs_background": "light"
     },
     "output_type": "display_data"
    }
   ],
   "source": [
    "def read_corpus_pl():\n",
    "    \"\"\" Read files from the specified Reuter's category.\n",
    "        Params:\n",
    "            category (string): category name\n",
    "        Return:\n",
    "            list of lists, with words from each of the processed files\n",
    "    \"\"\"\n",
    "    pl196x_dir = nltk.data.find('corpora/pl196x')\n",
    "    pl = pl196x.Pl196xCorpusReader(\n",
    "        pl196x_dir, r'.*\\.xml', textids='textids.txt',cat_file=\"cats.txt\")\n",
    "    tsents = pl.tagged_sents(fileids=pl.fileids(),categories='cats.txt')[:5000]\n",
    "\n",
    "    return [[START_TOKEN] + [\n",
    "        w[0].lower() for w in list(sent)] + [END_TOKEN] for sent in tsents]\n",
    "\n",
    "\n",
    "def plot_unnormalized(corpus, words):\n",
    "    M_co_occurrence, word2Ind_co_occurrence = compute_co_occurrence_matrix(\n",
    "        corpus)\n",
    "    M_reduced_co_occurrence = reduce_to_k_dim(M_co_occurrence, k=2)\n",
    "    plot_embeddings(M_reduced_co_occurrence, word2Ind_co_occurrence, words)\n",
    "\n",
    "\n",
    "def plot_normalized(corpus, words):\n",
    "    M_co_occurrence, word2Ind_co_occurrence = compute_co_occurrence_matrix(\n",
    "        corpus)\n",
    "    M_reduced_co_occurrence = reduce_to_k_dim(M_co_occurrence, k=2)\n",
    "    # Rescale (normalize) the rows to make them each of unit-length\n",
    "    M_lengths = np.linalg.norm(M_reduced_co_occurrence, axis=1)\n",
    "    M_normalized = M_reduced_co_occurrence / M_lengths[:, np.newaxis] # broadcasting\n",
    "    plot_embeddings(M_normalized, word2Ind_co_occurrence, words)\n",
    "\n",
    "pl_corpus = read_corpus_pl()\n",
    "words = [\n",
    "    \"sztuka\", \"śpiewaczka\", \"literatura\", \"poeta\", \"obywatel\"]\n",
    "plot_normalized(pl_corpus, words)\n",
    "plot_unnormalized(pl_corpus, words)"
   ],
   "metadata": {
    "collapsed": false,
    "pycharm": {
     "name": "#%%\n"
    }
   }
  },
  {
   "cell_type": "markdown",
   "source": [
    "Exercise 2\n",
    "a)"
   ],
   "metadata": {
    "collapsed": false,
    "pycharm": {
     "name": "#%% md\n"
    }
   }
  },
  {
   "cell_type": "code",
   "execution_count": 11,
   "outputs": [],
   "source": [
    "wv_from_bin_pl = KeyedVectors.load(\"word2vec_100_3_polish.bin\")"
   ],
   "metadata": {
    "collapsed": false,
    "pycharm": {
     "name": "#%%\n"
    }
   }
  },
  {
   "cell_type": "code",
   "execution_count": 12,
   "outputs": [
    {
     "name": "stdout",
     "output_type": "stream",
     "text": [
      "Shuffling words ...\n",
      "Putting 10000 words into word2Ind and matrix M...\n",
      "Done.\n",
      "Running Truncated SVD over 10006 words...\n",
      "Done.\n"
     ]
    },
    {
     "data": {
      "text/plain": "<Figure size 432x288 with 1 Axes>",
      "image/png": "[encoded data removed]"
     },
     "metadata": {
      "needs_background": "light"
     },
     "output_type": "display_data"
    }
   ],
   "source": [
    "# TODO: a)\n",
    "def get_matrix_of_vectors(wv_from_bin, required_words):\n",
    "    \"\"\" Put the word2vec vectors into a matrix M.\n",
    "        Param:\n",
    "            wv_from_bin: KeyedVectors object; the 3 million word2vec vectors\n",
    "                         loaded from file\n",
    "        Return:\n",
    "            M: numpy matrix shape (num words, 300) containing the vectors\n",
    "            word2Ind: dictionary mapping each word to its row number in M\n",
    "    \"\"\"\n",
    "    words = list(wv_from_bin.key_to_index.keys())\n",
    "    print(\"Shuffling words ...\")\n",
    "    random.shuffle(words)\n",
    "    words = words[:10000]\n",
    "    print(\"Putting %i words into word2Ind and matrix M...\" % len(words))\n",
    "    word2Ind = {}\n",
    "    M = []\n",
    "    curInd = 0\n",
    "    for w in words:\n",
    "        try:\n",
    "            M.append(wv_from_bin.get_vector(w))\n",
    "            word2Ind[w] = curInd\n",
    "            curInd += 1\n",
    "        except KeyError:\n",
    "            continue\n",
    "    for w in required_words:\n",
    "        try:\n",
    "            M.append(wv_from_bin.get_vector(w))\n",
    "            word2Ind[w] = curInd\n",
    "            curInd += 1\n",
    "        except KeyError:\n",
    "            continue\n",
    "    M = np.stack(M)\n",
    "    print(\"Done.\")\n",
    "    return M, word2Ind\n",
    "\n",
    "# -----------------------------------------------------------------\n",
    "# Run Cell to Reduce 300-Dimensinal Word Embeddings to k Dimensions\n",
    "# Note: This may take several minutes\n",
    "# -----------------------------------------------------------------\n",
    "\n",
    "#################################\n",
    "# TODO: a)\n",
    "words = [\n",
    "    \"sztuka\", \"śpiewaczka\", \"literatura\", \"poeta\", \"artystyczny\", \"obywatel\"]\n",
    "M, word2Ind = get_matrix_of_vectors(wv_from_bin_pl, words)\n",
    "M_reduced = reduce_to_k_dim(M, k=2)\n",
    "plot_embeddings(M_reduced, word2Ind, words)"
   ],
   "metadata": {
    "collapsed": false,
    "pycharm": {
     "name": "#%%\n"
    }
   }
  },
  {
   "cell_type": "markdown",
   "source": [
    "b)"
   ],
   "metadata": {
    "collapsed": false,
    "pycharm": {
     "name": "#%% md\n"
    }
   }
  },
  {
   "cell_type": "code",
   "execution_count": 13,
   "outputs": [
    {
     "name": "stdout",
     "output_type": "stream",
     "text": [
      "-----------zamek------------\n"
     ]
    },
    {
     "name": "stderr",
     "output_type": "stream",
     "text": [
      "C:\\Users\\48604\\AppData\\Local\\Programs\\Python\\Python310\\lib\\site-packages\\gensim\\models\\keyedvectors.py:849: RuntimeWarning: invalid value encountered in divide\n",
      "  dists = dot(self.vectors[clip_start:clip_end], mean) / self.norms[clip_start:clip_end]\n"
     ]
    },
    {
     "name": "stdout",
     "output_type": "stream",
     "text": [
      "[('zameczek', 0.8462140560150146), ('pałac', 0.7984483242034912), ('zamczysko', 0.785627007484436), ('forteca', 0.7682814002037048), ('grodź', 0.7508893609046936), ('warownia', 0.7442566156387329), ('gród', 0.736450731754303), ('donżon', 0.7312632203102112), ('dworzyszcze', 0.7277812957763672), ('cytadela', 0.7103342413902283)]\n",
      "-----------pilot------------\n",
      "[('nawigator', 0.8294645547866821), ('radiooperator', 0.7980995178222656), ('oblatywacz', 0.7636105418205261), ('radiotelegrafista', 0.7463005185127258), ('lotnik', 0.7396376729011536), ('myśliwiec', 0.7340847253799438), ('komandos', 0.73370361328125), ('łącznościowiec', 0.7146121263504028), ('helikopter', 0.7100639939308167), ('desantowiec', 0.7085386514663696)]\n",
      "-----------słodki------------\n",
      "[('przesłodki', 0.7481836676597595), ('rozkoszny', 0.7437712550163269), ('słodycz', 0.7355350255966187), ('gorzki', 0.6902108192443848), ('słodko', 0.6878833770751953), ('słodziutki', 0.6659290194511414), ('tkliwy', 0.6632099747657776), ('cierpki', 0.6586456298828125), ('wonny', 0.6552489399909973), ('soczysty', 0.6534457802772522)]\n"
     ]
    }
   ],
   "source": [
    "polysemous_words = [\"zamek\", \"pilot\", \"słodki\"]\n",
    "for word in polysemous_words:\n",
    "    print(f\"-----------{word}------------\")\n",
    "    print(wv_from_bin_pl.most_similar(word))\n"
   ],
   "metadata": {
    "collapsed": false,
    "pycharm": {
     "name": "#%%\n"
    }
   }
  },
  {
   "cell_type": "markdown",
   "source": [
    "c)"
   ],
   "metadata": {
    "collapsed": false,
    "pycharm": {
     "name": "#%% md\n"
    }
   }
  },
  {
   "cell_type": "code",
   "execution_count": 14,
   "outputs": [
    {
     "name": "stdout",
     "output_type": "stream",
     "text": [
      "Synonyms kochać, uwielbiać have cosine distance: 0.373593807220459\n",
      "Antonyms kochać, nienawidzić have cosine distance: 0.22562378644943237\n"
     ]
    }
   ],
   "source": [
    "w1 = \"kochać\"\n",
    "w2 = \"uwielbiać\"\n",
    "w3 = \"nienawidzić\"\n",
    "w1_w2_dist = wv_from_bin_pl.distance(w1, w2)\n",
    "w1_w3_dist = wv_from_bin_pl.distance(w1, w3)\n",
    "\n",
    "print(\"Synonyms {}, {} have cosine distance: {}\".format(w1, w2, w1_w2_dist))\n",
    "print(\"Antonyms {}, {} have cosine distance: {}\".format(w1, w3, w1_w3_dist))"
   ],
   "metadata": {
    "collapsed": false,
    "pycharm": {
     "name": "#%%\n"
    }
   }
  },
  {
   "cell_type": "markdown",
   "source": [
    "d)\n"
   ],
   "metadata": {
    "collapsed": false,
    "pycharm": {
     "name": "#%% md\n"
    }
   }
  },
  {
   "cell_type": "code",
   "execution_count": 15,
   "outputs": [
    {
     "name": "stdout",
     "output_type": "stream",
     "text": [
      "[('mężczyzna', 0.6670641303062439),\n",
      " ('nastolatek', 0.6582932472229004),\n",
      " ('podrostek', 0.6514867544174194),\n",
      " ('młody', 0.6485521197319031),\n",
      " ('młodzik', 0.6434695720672607),\n",
      " ('młodociany', 0.6215085387229919),\n",
      " ('młodzieniec', 0.6047544479370117),\n",
      " ('długowłosy', 0.601329505443573),\n",
      " ('nieznajomy', 0.5939396023750305),\n",
      " ('misiowaty', 0.5928362607955933)]\n"
     ]
    }
   ],
   "source": [
    "pprint.pprint(wv_from_bin_pl.most_similar(\n",
    "    positive=[\"chłopiec\", \"dorosły\"], negative=[\"dziecko\"]))"
   ],
   "metadata": {
    "collapsed": false,
    "pycharm": {
     "name": "#%%\n"
    }
   }
  },
  {
   "cell_type": "markdown",
   "source": [
    "e)\n"
   ],
   "metadata": {
    "collapsed": false,
    "pycharm": {
     "name": "#%% md\n"
    }
   }
  },
  {
   "cell_type": "code",
   "execution_count": 16,
   "outputs": [
    {
     "name": "stdout",
     "output_type": "stream",
     "text": [
      "[('popijać', 0.741878867149353),\n",
      " ('wypijać', 0.7119614481925964),\n",
      " ('popijała', 0.7065809965133667),\n",
      " ('nalewać', 0.6865079402923584),\n",
      " ('wypić', 0.6754423379898071),\n",
      " ('pijać', 0.6719720363616943),\n",
      " ('częstować', 0.6708579659461975),\n",
      " ('dopijać', 0.6629468202590942),\n",
      " ('zajadać', 0.6566815376281738),\n",
      " ('zapijać', 0.6464109420776367)]\n"
     ]
    }
   ],
   "source": [
    "pprint.pprint(wv_from_bin_pl.most_similar(\n",
    "    positive=[\"talerz\", \"pić\"], negative=[\"jeść\"]))\n"
   ],
   "metadata": {
    "collapsed": false,
    "pycharm": {
     "name": "#%%\n"
    }
   }
  },
  {
   "cell_type": "markdown",
   "source": [
    "f)\n"
   ],
   "metadata": {
    "collapsed": false,
    "pycharm": {
     "name": "#%% md\n"
    }
   }
  },
  {
   "cell_type": "code",
   "execution_count": 17,
   "outputs": [
    {
     "name": "stdout",
     "output_type": "stream",
     "text": [
      "[('własika', 0.5678122639656067),\n",
      " ('agent', 0.5483713150024414),\n",
      " ('oficer', 0.5411549210548401),\n",
      " ('esperów', 0.5383270978927612),\n",
      " ('interpol', 0.5367037653923035),\n",
      " ('antyterrorystyczny', 0.5327680110931396),\n",
      " ('komisarz', 0.5326411128044128),\n",
      " ('europolu', 0.5274547338485718),\n",
      " ('bnd', 0.5271410346031189),\n",
      " ('pracownik', 0.5215375423431396)]\n",
      "\n",
      "[('wiceprezes', 0.6396454572677612),\n",
      " ('czlonkiem', 0.5929950475692749),\n",
      " ('przewodniczący', 0.5746127963066101),\n",
      " ('czlonek', 0.5648552179336548),\n",
      " ('przewodniczacym', 0.5586849451065063),\n",
      " ('wiceprzewodniczący', 0.5560489892959595),\n",
      " ('obowiazków', 0.5549101233482361),\n",
      " ('obowiazani', 0.5544129610061646),\n",
      " ('dyrektor', 0.5513691306114197),\n",
      " ('obowiazany', 0.5471130609512329)]\n"
     ]
    }
   ],
   "source": [
    "pprint.pprint(wv_from_bin_pl.most_similar(\n",
    "    positive=['kobieta', 'szef'], negative=['mezczyzna']))\n",
    "print()\n",
    "pprint.pprint(wv_from_bin_pl.most_similar(\n",
    "    positive=['mezczyzna', 'prezes'], negative=['kobieta']))\n"
   ],
   "metadata": {
    "collapsed": false,
    "pycharm": {
     "name": "#%%\n"
    }
   }
  },
  {
   "cell_type": "markdown",
   "source": [
    "g)"
   ],
   "metadata": {
    "collapsed": false,
    "pycharm": {
     "name": "#%% md\n"
    }
   }
  },
  {
   "cell_type": "code",
   "execution_count": 18,
   "outputs": [
    {
     "name": "stdout",
     "output_type": "stream",
     "text": [
      "[('pielęgniarka', 0.652389645576477),\n",
      " ('lekarka', 0.6262717247009277),\n",
      " ('osoba', 0.6237451434135437),\n",
      " ('chirurg', 0.6050892472267151),\n",
      " ('psychiatra', 0.5909774303436279),\n",
      " ('pacjent', 0.5898064374923706),\n",
      " ('ginekolog', 0.5640532970428467),\n",
      " ('akuszerka', 0.5627631545066833),\n",
      " ('dziewczę', 0.5559123754501343),\n",
      " ('logopeda', 0.5546327829360962)]\n"
     ]
    }
   ],
   "source": [
    "pprint.pprint(wv_from_bin_pl.most_similar(\n",
    "    positive=['lekarz', 'kobieta'], negative=['mezczyzna']))\n"
   ],
   "metadata": {
    "collapsed": false,
    "pycharm": {
     "name": "#%%\n"
    }
   }
  },
  {
   "cell_type": "markdown",
   "source": [
    "i)"
   ],
   "metadata": {
    "collapsed": false,
    "pycharm": {
     "name": "#%% md\n"
    }
   }
  },
  {
   "cell_type": "code",
   "execution_count": 19,
   "outputs": [],
   "source": [
    "import gensim\n",
    "word2vec = gensim.models.KeyedVectors.load_word2vec_format(\"GoogleNews-vectors-negative300.bin\", binary=True)\n"
   ],
   "metadata": {
    "collapsed": false,
    "pycharm": {
     "name": "#%%\n"
    }
   }
  },
  {
   "cell_type": "code",
   "execution_count": 20,
   "outputs": [
    {
     "name": "stdout",
     "output_type": "stream",
     "text": [
      "-----------bar------------\n",
      "[('Bar', 0.656773567199707), ('bars', 0.6537090539932251), ('tavern', 0.6364459991455078), ('pub', 0.6000003814697266), ('nightspot', 0.5897086262702942), ('nightclub', 0.5828037261962891), ('Pub', 0.5696172714233398), ('bartender', 0.5664138197898865), ('restaurant', 0.5545204281806946), ('Lounge', 0.5305414199829102)]\n",
      "-----------jam------------\n",
      "[('jams', 0.7726219892501831), ('jamming', 0.5279730558395386), ('bases_loaded_jam', 0.5009481906890869), ('Mariano_Rivera_wriggled', 0.495868980884552), ('jam_unscathed', 0.49118298292160034), ('TJ_Rushing_fumbled', 0.48921874165534973), ('miter_gate', 0.4834982454776764), ('baked_goods_jellies', 0.458962082862854), ('Inglett_grounded', 0.4589618742465973), ('hootenanny', 0.4570198059082031)]\n"
     ]
    }
   ],
   "source": [
    "polysemous_words = [\"bar\", \"jam\"]\n",
    "for word in polysemous_words:\n",
    "    print(f\"-----------{word}------------\")\n",
    "    print(word2vec.most_similar(word))\n"
   ],
   "metadata": {
    "collapsed": false,
    "pycharm": {
     "name": "#%%\n"
    }
   }
  },
  {
   "cell_type": "markdown",
   "source": [
    "Synonyms of a word \"bar\" are all related to a tavern/restaurant although the word has multiple other meanings, eg. scroll bar, chocolate bar etc. An example of a word that is close to its synonims with multiple meanings is a word \"jam\" - it has close synonims relating to both food and music improvisation."
   ],
   "metadata": {
    "collapsed": false,
    "pycharm": {
     "name": "#%% md\n"
    }
   }
  },
  {
   "cell_type": "code",
   "execution_count": 21,
   "outputs": [
    {
     "name": "stdout",
     "output_type": "stream",
     "text": [
      "Synonyms love, adore have cosine distance: 0.3183126449584961\n",
      "Antonyms love, hate have cosine distance: 0.3996043801307678\n"
     ]
    }
   ],
   "source": [
    "w1 = \"love\"\n",
    "w2 = \"adore\"\n",
    "w3 = \"hate\"\n",
    "w1_w2_dist = word2vec.distance(w1, w2)\n",
    "w1_w3_dist = word2vec.distance(w1, w3)\n",
    "\n",
    "print(\"Synonyms {}, {} have cosine distance: {}\".format(w1, w2, w1_w2_dist))\n",
    "print(\"Antonyms {}, {} have cosine distance: {}\".format(w1, w3, w1_w3_dist))\n"
   ],
   "metadata": {
    "collapsed": false,
    "pycharm": {
     "name": "#%%\n"
    }
   }
  },
  {
   "cell_type": "markdown",
   "source": [
    "Contrary to Polish translations, the words love and adore are closer to each other than love and hate. One of the reasons might be that, comparing to Polish, the word \"hate\" is more often used in the context of hate comments/hate crimes."
   ],
   "metadata": {
    "collapsed": false,
    "pycharm": {
     "name": "#%% md\n"
    }
   }
  },
  {
   "cell_type": "code",
   "execution_count": 22,
   "outputs": [
    {
     "name": "stdout",
     "output_type": "stream",
     "text": [
      "Synonyms smart, dumb have cosine distance: 0.42073047161102295\n",
      "Antonyms smart, clever have cosine distance: 0.43432676792144775\n"
     ]
    }
   ],
   "source": [
    "w1 = \"smart\"\n",
    "w2 = \"dumb\"\n",
    "w3 = \"clever\"\n",
    "w1_w2_dist = word2vec.distance(w1, w2)\n",
    "w1_w3_dist = word2vec.distance(w1, w3)\n",
    "\n",
    "print(\"Synonyms {}, {} have cosine distance: {}\".format(w1, w2, w1_w2_dist))\n",
    "print(\"Antonyms {}, {} have cosine distance: {}\".format(w1, w3, w1_w3_dist))"
   ],
   "metadata": {
    "collapsed": false,
    "pycharm": {
     "name": "#%%\n"
    }
   }
  },
  {
   "cell_type": "markdown",
   "source": [
    "The words \"smart\" and \"dumb\" are more close in the space than \"smart\" and \"clever\". That probably results from first two words being more informal and therefore more often used in the same context."
   ],
   "metadata": {
    "collapsed": false,
    "pycharm": {
     "name": "#%% md\n"
    }
   }
  },
  {
   "cell_type": "code",
   "execution_count": 23,
   "outputs": [
    {
     "name": "stdout",
     "output_type": "stream",
     "text": [
      "[('bottle', 0.4425586760044098),\n",
      " ('keg', 0.43914172053337097),\n",
      " ('plates', 0.43516722321510315),\n",
      " ('pint_glass', 0.42473798990249634),\n",
      " ('cranberry_vodka', 0.4176194965839386),\n",
      " ('brandy_snifter', 0.41758719086647034),\n",
      " ('vodka_gin', 0.41383081674575806),\n",
      " ('jug', 0.41124358773231506),\n",
      " ('###ml_glasses', 0.41051000356674194),\n",
      " ('alcohol', 0.4098261892795563)]\n"
     ]
    }
   ],
   "source": [
    "pprint.pprint(word2vec.most_similar(\n",
    "    positive=[\"plate\", \"drink\"], negative=[\"eat\"]))"
   ],
   "metadata": {
    "collapsed": false,
    "pycharm": {
     "name": "#%%\n"
    }
   }
  },
  {
   "cell_type": "markdown",
   "source": [
    "Interestingly, in English the analogy eat:plate :: drink:x is solved sensibly with x=\"bottle\""
   ],
   "metadata": {
    "collapsed": false
   }
  },
  {
   "cell_type": "code",
   "execution_count": 24,
   "outputs": [
    {
     "name": "stdout",
     "output_type": "stream",
     "text": [
      "[('Geralt', 0.4971220791339874),\n",
      " ('changeling', 0.49188873171806335),\n",
      " ('giantess', 0.490115761756897),\n",
      " ('Tivii', 0.48267918825149536),\n",
      " ('wizard_Howl', 0.48094767332077026),\n",
      " ('frog_prince', 0.4786548614501953),\n",
      " ('necromancer', 0.47633692622184753),\n",
      " ('humanoid_creature', 0.47624415159225464),\n",
      " ('Mameha', 0.4761201739311218),\n",
      " ('sorceress', 0.47353726625442505)]\n"
     ]
    }
   ],
   "source": [
    "pprint.pprint(word2vec.most_similar(\n",
    "    positive=[\"witcher\", \"woman\"], negative=[\"man\"]))"
   ],
   "metadata": {
    "collapsed": false,
    "pycharm": {
     "name": "#%%\n"
    }
   }
  },
  {
   "cell_type": "markdown",
   "source": [
    "The analogy man:witcher :: woman:x is not solved correctly. The model's answer is \"Geralt\" whereas the expected answer is witch/sorceress."
   ],
   "metadata": {
    "collapsed": false,
    "pycharm": {
     "name": "#%% md\n"
    }
   }
  },
  {
   "cell_type": "code",
   "execution_count": 25,
   "outputs": [
    {
     "name": "stdout",
     "output_type": "stream",
     "text": [
      "[('nurse', 0.6588720679283142),\n",
      " ('gynecologist', 0.647172212600708),\n",
      " ('nurse_practitioner', 0.6255376935005188),\n",
      " ('midwife', 0.6002784371376038),\n",
      " ('pediatrician', 0.5921324491500854),\n",
      " ('dermatologist', 0.5582225322723389),\n",
      " ('ob_gyn', 0.5563921928405762),\n",
      " ('pharmacist', 0.5559877753257751),\n",
      " ('doctors', 0.5544067621231079),\n",
      " ('nurse_midwife', 0.554105281829834)]\n"
     ]
    }
   ],
   "source": [
    "pprint.pprint(word2vec.most_similar(\n",
    "    positive=[\"doctor\", \"she\"], negative=[\"he\"]))\n"
   ],
   "metadata": {
    "collapsed": false,
    "pycharm": {
     "name": "#%%\n"
    }
   }
  }
 ],
 "metadata": {
  "kernelspec": {
   "display_name": "Python 3",
   "language": "python",
   "name": "python3"
  },
  "language_info": {
   "codemirror_mode": {
    "name": "ipython",
    "version": 2
   },
   "file_extension": ".py",
   "mimetype": "text/x-python",
   "name": "python",
   "nbconvert_exporter": "python",
   "pygments_lexer": "ipython2",
   "version": "2.7.6"
  }
 },
 "nbformat": 4,
 "nbformat_minor": 0
}